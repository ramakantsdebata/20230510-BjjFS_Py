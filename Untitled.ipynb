{
  "metadata": {
    "language_info": {
      "codemirror_mode": {
        "name": "python",
        "version": 3
      },
      "file_extension": ".py",
      "mimetype": "text/x-python",
      "name": "python",
      "nbconvert_exporter": "python",
      "pygments_lexer": "ipython3",
      "version": "3.8"
    },
    "kernelspec": {
      "name": "python",
      "display_name": "Python (Pyodide)",
      "language": "python"
    }
  },
  "nbformat_minor": 4,
  "nbformat": 4,
  "cells": [
    {
      "cell_type": "code",
      "source": "import piplite\npiplite.install('virtualenv','multipledispatch','urllib3')",
      "metadata": {
        "trusted": true
      },
      "execution_count": 14,
      "outputs": [
        {
          "execution_count": 14,
          "output_type": "execute_result",
          "data": {
            "text/plain": "<Task pending name='Task-76' coro=<_install() running at /lib/python3.11/site-packages/piplite/piplite.py:94> cb=[WebLoop._decrement_in_progress()]>"
          },
          "metadata": {}
        }
      ]
    },
    {
      "cell_type": "code",
      "source": "def Add(a, b):\n    result = a + b\n    return result\n\ndef Add(a, b, c):\n    result = a + b + c\n    return result\n\nprint(Add(1, 2))\nprint(Add(1, 2, 3))",
      "metadata": {
        "trusted": true
      },
      "execution_count": 16,
      "outputs": [
        {
          "ename": "<class 'TypeError'>",
          "evalue": "Add() missing 1 required positional argument: 'c'",
          "traceback": [
            "\u001b[0;31m---------------------------------------------------------------------------\u001b[0m",
            "\u001b[0;31mTypeError\u001b[0m                                 Traceback (most recent call last)",
            "Cell \u001b[0;32mIn[16], line 9\u001b[0m\n\u001b[1;32m      6\u001b[0m     result \u001b[38;5;241m=\u001b[39m a \u001b[38;5;241m+\u001b[39m b \u001b[38;5;241m+\u001b[39m c\n\u001b[1;32m      7\u001b[0m     \u001b[38;5;28;01mreturn\u001b[39;00m result\n\u001b[0;32m----> 9\u001b[0m \u001b[38;5;28mprint\u001b[39m(\u001b[43mAdd\u001b[49m\u001b[43m(\u001b[49m\u001b[38;5;241;43m1\u001b[39;49m\u001b[43m,\u001b[49m\u001b[43m \u001b[49m\u001b[38;5;241;43m2\u001b[39;49m\u001b[43m)\u001b[49m)\n\u001b[1;32m     10\u001b[0m \u001b[38;5;28mprint\u001b[39m(Add(\u001b[38;5;241m1\u001b[39m, \u001b[38;5;241m2\u001b[39m, \u001b[38;5;241m3\u001b[39m))\n",
            "\u001b[0;31mTypeError\u001b[0m: Add() missing 1 required positional argument: 'c'"
          ],
          "output_type": "error"
        }
      ]
    },
    {
      "cell_type": "code",
      "source": "# Not Efficient\ndef Add(dataType, *args):\n    if dataType == 'int':\n        return AddIntegers(*args)\n    # elif dataType == 'str':\n    else:\n        return AddStrings(*args)\n    #else:\n     #   return None\n\ndef AddIntegers(*args):\n    result = 0\n    for x in args:\n        result += x\n    return result\n \ndef AddStrings(*args):\n    result = ''\n    for x in args:\n        result += x\n    return result\n        \n\nprint(Add('int', 1, 2, 3))\nprint(Add('str', \"1\", \"2\", \"3\"))\n#print(Add('MyType', ob1, ob2, ob3))",
      "metadata": {
        "trusted": true
      },
      "execution_count": 19,
      "outputs": [
        {
          "name": "stdout",
          "text": "6\n123\n",
          "output_type": "stream"
        }
      ]
    },
    {
      "cell_type": "code",
      "source": "# Most inefficient\ndef Add(a = None, b = None, c = None, d = Node, e = None):\n    result = 0\n    # Before adding each element check for None",
      "metadata": {},
      "execution_count": null,
      "outputs": []
    },
    {
      "cell_type": "code",
      "source": "from multipledispatch import dispatch\n\n@dispatch(int, int)\ndef Add(a, b):\n    result = a + b\n    return result\n\n@dispatch(int, int, int)\ndef Add(a, b, c):\n    result = a + b + c\n    return result\n\n@dispatch(float, int, float)\ndef Add(a, b, c):\n    result = a + b + c\n    return result\n\nprint(Add(1, 2))\nprint(Add(1, 2, 3))",
      "metadata": {},
      "execution_count": null,
      "outputs": []
    }
  ]
}